{
 "cells": [
  {
   "cell_type": "code",
   "execution_count": 1,
   "id": "ac1b0fd6",
   "metadata": {
    "_cell_guid": "b1076dfc-b9ad-4769-8c92-a6c4dae69d19",
    "_uuid": "8f2839f25d086af736a60e9eeb907d3b93b6e0e5",
    "execution": {
     "iopub.execute_input": "2023-06-19T18:05:23.013421Z",
     "iopub.status.busy": "2023-06-19T18:05:23.012174Z",
     "iopub.status.idle": "2023-06-19T18:05:23.030972Z",
     "shell.execute_reply": "2023-06-19T18:05:23.029901Z"
    },
    "papermill": {
     "duration": 0.039922,
     "end_time": "2023-06-19T18:05:23.034123",
     "exception": false,
     "start_time": "2023-06-19T18:05:22.994201",
     "status": "completed"
    },
    "tags": []
   },
   "outputs": [
    {
     "name": "stdout",
     "output_type": "stream",
     "text": [
      "/kaggle/input/titanic/train.csv\n",
      "/kaggle/input/titanic/test.csv\n",
      "/kaggle/input/titanic/gender_submission.csv\n"
     ]
    }
   ],
   "source": [
    "# This Python 3 environment comes with many helpful analytics libraries installed\n",
    "# It is defined by the kaggle/python Docker image: https://github.com/kaggle/docker-python\n",
    "# For example, here's several helpful packages to load\n",
    "\n",
    "import numpy as np # linear algebra\n",
    "import pandas as pd # data processing, CSV file I/O (e.g. pd.read_csv)\n",
    "\n",
    "# Input data files are available in the read-only \"../input/\" directory\n",
    "# For example, running this (by clicking run or pressing Shift+Enter) will list all files under the input directory\n",
    "\n",
    "import os\n",
    "for dirname, _, filenames in os.walk('/kaggle/input'):\n",
    "    for filename in filenames:\n",
    "        print(os.path.join(dirname, filename))\n",
    "\n",
    "# You can write up to 20GB to the current directory (/kaggle/working/) that gets preserved as output when you create a version using \"Save & Run All\" \n",
    "# You can also write temporary files to /kaggle/temp/, but they won't be saved outside of the current session"
   ]
  },
  {
   "cell_type": "markdown",
   "id": "837dbd7d",
   "metadata": {
    "papermill": {
     "duration": 0.012216,
     "end_time": "2023-06-19T18:05:23.059215",
     "exception": false,
     "start_time": "2023-06-19T18:05:23.046999",
     "status": "completed"
    },
    "tags": []
   },
   "source": [
    "# Titanic competition"
   ]
  },
  {
   "cell_type": "markdown",
   "id": "0e1f3e6d",
   "metadata": {
    "papermill": {
     "duration": 0.011151,
     "end_time": "2023-06-19T18:05:23.082592",
     "exception": false,
     "start_time": "2023-06-19T18:05:23.071441",
     "status": "completed"
    },
    "tags": []
   },
   "source": [
    "### This notebook will show the steps to find the solution\n",
    "#### This notebook shows:\n",
    "#### Data Pre-Processing and Visualization\n",
    "Preprocessing is the process of doing a pre-analysis of data, in order to transform them into a standard and normalized format. Generally, Data Preprocessing involves the following aspects:\n",
    "1. Handling Missing/Null Values\n",
    "2. Data Formatting:\n",
    "3. Data Normalization:\n",
    "4. Data Standardization:\n",
    "5. Data Binning:"
   ]
  },
  {
   "cell_type": "markdown",
   "id": "2e94dd19",
   "metadata": {
    "papermill": {
     "duration": 0.011182,
     "end_time": "2023-06-19T18:05:23.105405",
     "exception": false,
     "start_time": "2023-06-19T18:05:23.094223",
     "status": "completed"
    },
    "tags": []
   },
   "source": [
    "### Data Formatting"
   ]
  },
  {
   "cell_type": "code",
   "execution_count": 2,
   "id": "80113807",
   "metadata": {
    "execution": {
     "iopub.execute_input": "2023-06-19T18:05:23.131079Z",
     "iopub.status.busy": "2023-06-19T18:05:23.130007Z",
     "iopub.status.idle": "2023-06-19T18:05:23.136310Z",
     "shell.execute_reply": "2023-06-19T18:05:23.134737Z"
    },
    "papermill": {
     "duration": 0.02182,
     "end_time": "2023-06-19T18:05:23.138784",
     "exception": false,
     "start_time": "2023-06-19T18:05:23.116964",
     "status": "completed"
    },
    "tags": []
   },
   "outputs": [],
   "source": [
    "import numpy as np\n",
    "import pandas as pd\n",
    "import os"
   ]
  },
  {
   "cell_type": "code",
   "execution_count": 3,
   "id": "3cd69aee",
   "metadata": {
    "execution": {
     "iopub.execute_input": "2023-06-19T18:05:23.164125Z",
     "iopub.status.busy": "2023-06-19T18:05:23.163659Z",
     "iopub.status.idle": "2023-06-19T18:05:23.230113Z",
     "shell.execute_reply": "2023-06-19T18:05:23.229003Z"
    },
    "papermill": {
     "duration": 0.081921,
     "end_time": "2023-06-19T18:05:23.232667",
     "exception": false,
     "start_time": "2023-06-19T18:05:23.150746",
     "status": "completed"
    },
    "tags": []
   },
   "outputs": [
    {
     "data": {
      "text/html": [
       "<div>\n",
       "<style scoped>\n",
       "    .dataframe tbody tr th:only-of-type {\n",
       "        vertical-align: middle;\n",
       "    }\n",
       "\n",
       "    .dataframe tbody tr th {\n",
       "        vertical-align: top;\n",
       "    }\n",
       "\n",
       "    .dataframe thead th {\n",
       "        text-align: right;\n",
       "    }\n",
       "</style>\n",
       "<table border=\"1\" class=\"dataframe\">\n",
       "  <thead>\n",
       "    <tr style=\"text-align: right;\">\n",
       "      <th></th>\n",
       "      <th>PassengerId</th>\n",
       "      <th>Pclass</th>\n",
       "      <th>Name</th>\n",
       "      <th>Sex</th>\n",
       "      <th>Age</th>\n",
       "      <th>SibSp</th>\n",
       "      <th>Parch</th>\n",
       "      <th>Ticket</th>\n",
       "      <th>Fare</th>\n",
       "      <th>Cabin</th>\n",
       "      <th>Embarked</th>\n",
       "    </tr>\n",
       "  </thead>\n",
       "  <tbody>\n",
       "    <tr>\n",
       "      <th>0</th>\n",
       "      <td>892</td>\n",
       "      <td>3</td>\n",
       "      <td>Kelly, Mr. James</td>\n",
       "      <td>male</td>\n",
       "      <td>34.5</td>\n",
       "      <td>0</td>\n",
       "      <td>0</td>\n",
       "      <td>330911</td>\n",
       "      <td>7.8292</td>\n",
       "      <td>NaN</td>\n",
       "      <td>Q</td>\n",
       "    </tr>\n",
       "    <tr>\n",
       "      <th>1</th>\n",
       "      <td>893</td>\n",
       "      <td>3</td>\n",
       "      <td>Wilkes, Mrs. James (Ellen Needs)</td>\n",
       "      <td>female</td>\n",
       "      <td>47.0</td>\n",
       "      <td>1</td>\n",
       "      <td>0</td>\n",
       "      <td>363272</td>\n",
       "      <td>7.0000</td>\n",
       "      <td>NaN</td>\n",
       "      <td>S</td>\n",
       "    </tr>\n",
       "    <tr>\n",
       "      <th>2</th>\n",
       "      <td>894</td>\n",
       "      <td>2</td>\n",
       "      <td>Myles, Mr. Thomas Francis</td>\n",
       "      <td>male</td>\n",
       "      <td>62.0</td>\n",
       "      <td>0</td>\n",
       "      <td>0</td>\n",
       "      <td>240276</td>\n",
       "      <td>9.6875</td>\n",
       "      <td>NaN</td>\n",
       "      <td>Q</td>\n",
       "    </tr>\n",
       "    <tr>\n",
       "      <th>3</th>\n",
       "      <td>895</td>\n",
       "      <td>3</td>\n",
       "      <td>Wirz, Mr. Albert</td>\n",
       "      <td>male</td>\n",
       "      <td>27.0</td>\n",
       "      <td>0</td>\n",
       "      <td>0</td>\n",
       "      <td>315154</td>\n",
       "      <td>8.6625</td>\n",
       "      <td>NaN</td>\n",
       "      <td>S</td>\n",
       "    </tr>\n",
       "    <tr>\n",
       "      <th>4</th>\n",
       "      <td>896</td>\n",
       "      <td>3</td>\n",
       "      <td>Hirvonen, Mrs. Alexander (Helga E Lindqvist)</td>\n",
       "      <td>female</td>\n",
       "      <td>22.0</td>\n",
       "      <td>1</td>\n",
       "      <td>1</td>\n",
       "      <td>3101298</td>\n",
       "      <td>12.2875</td>\n",
       "      <td>NaN</td>\n",
       "      <td>S</td>\n",
       "    </tr>\n",
       "  </tbody>\n",
       "</table>\n",
       "</div>"
      ],
      "text/plain": [
       "   PassengerId  Pclass                                          Name     Sex  \\\n",
       "0          892       3                              Kelly, Mr. James    male   \n",
       "1          893       3              Wilkes, Mrs. James (Ellen Needs)  female   \n",
       "2          894       2                     Myles, Mr. Thomas Francis    male   \n",
       "3          895       3                              Wirz, Mr. Albert    male   \n",
       "4          896       3  Hirvonen, Mrs. Alexander (Helga E Lindqvist)  female   \n",
       "\n",
       "    Age  SibSp  Parch   Ticket     Fare Cabin Embarked  \n",
       "0  34.5      0      0   330911   7.8292   NaN        Q  \n",
       "1  47.0      1      0   363272   7.0000   NaN        S  \n",
       "2  62.0      0      0   240276   9.6875   NaN        Q  \n",
       "3  27.0      0      0   315154   8.6625   NaN        S  \n",
       "4  22.0      1      1  3101298  12.2875   NaN        S  "
      ]
     },
     "execution_count": 3,
     "metadata": {},
     "output_type": "execute_result"
    }
   ],
   "source": [
    "titanic_test= pd.read_csv(\"/kaggle/input/titanic/test.csv\")\n",
    "titanic_test.head(5)"
   ]
  },
  {
   "cell_type": "code",
   "execution_count": 4,
   "id": "c1b6577c",
   "metadata": {
    "execution": {
     "iopub.execute_input": "2023-06-19T18:05:23.258827Z",
     "iopub.status.busy": "2023-06-19T18:05:23.258321Z",
     "iopub.status.idle": "2023-06-19T18:05:23.287342Z",
     "shell.execute_reply": "2023-06-19T18:05:23.285743Z"
    },
    "papermill": {
     "duration": 0.045397,
     "end_time": "2023-06-19T18:05:23.290065",
     "exception": false,
     "start_time": "2023-06-19T18:05:23.244668",
     "status": "completed"
    },
    "tags": []
   },
   "outputs": [
    {
     "data": {
      "text/html": [
       "<div>\n",
       "<style scoped>\n",
       "    .dataframe tbody tr th:only-of-type {\n",
       "        vertical-align: middle;\n",
       "    }\n",
       "\n",
       "    .dataframe tbody tr th {\n",
       "        vertical-align: top;\n",
       "    }\n",
       "\n",
       "    .dataframe thead th {\n",
       "        text-align: right;\n",
       "    }\n",
       "</style>\n",
       "<table border=\"1\" class=\"dataframe\">\n",
       "  <thead>\n",
       "    <tr style=\"text-align: right;\">\n",
       "      <th></th>\n",
       "      <th>PassengerId</th>\n",
       "      <th>Survived</th>\n",
       "      <th>Pclass</th>\n",
       "      <th>Name</th>\n",
       "      <th>Sex</th>\n",
       "      <th>Age</th>\n",
       "      <th>SibSp</th>\n",
       "      <th>Parch</th>\n",
       "      <th>Ticket</th>\n",
       "      <th>Fare</th>\n",
       "      <th>Cabin</th>\n",
       "      <th>Embarked</th>\n",
       "    </tr>\n",
       "  </thead>\n",
       "  <tbody>\n",
       "    <tr>\n",
       "      <th>0</th>\n",
       "      <td>1</td>\n",
       "      <td>0</td>\n",
       "      <td>3</td>\n",
       "      <td>Braund, Mr. Owen Harris</td>\n",
       "      <td>male</td>\n",
       "      <td>22.0</td>\n",
       "      <td>1</td>\n",
       "      <td>0</td>\n",
       "      <td>A/5 21171</td>\n",
       "      <td>7.2500</td>\n",
       "      <td>NaN</td>\n",
       "      <td>S</td>\n",
       "    </tr>\n",
       "    <tr>\n",
       "      <th>1</th>\n",
       "      <td>2</td>\n",
       "      <td>1</td>\n",
       "      <td>1</td>\n",
       "      <td>Cumings, Mrs. John Bradley (Florence Briggs Th...</td>\n",
       "      <td>female</td>\n",
       "      <td>38.0</td>\n",
       "      <td>1</td>\n",
       "      <td>0</td>\n",
       "      <td>PC 17599</td>\n",
       "      <td>71.2833</td>\n",
       "      <td>C85</td>\n",
       "      <td>C</td>\n",
       "    </tr>\n",
       "    <tr>\n",
       "      <th>2</th>\n",
       "      <td>3</td>\n",
       "      <td>1</td>\n",
       "      <td>3</td>\n",
       "      <td>Heikkinen, Miss. Laina</td>\n",
       "      <td>female</td>\n",
       "      <td>26.0</td>\n",
       "      <td>0</td>\n",
       "      <td>0</td>\n",
       "      <td>STON/O2. 3101282</td>\n",
       "      <td>7.9250</td>\n",
       "      <td>NaN</td>\n",
       "      <td>S</td>\n",
       "    </tr>\n",
       "    <tr>\n",
       "      <th>3</th>\n",
       "      <td>4</td>\n",
       "      <td>1</td>\n",
       "      <td>1</td>\n",
       "      <td>Futrelle, Mrs. Jacques Heath (Lily May Peel)</td>\n",
       "      <td>female</td>\n",
       "      <td>35.0</td>\n",
       "      <td>1</td>\n",
       "      <td>0</td>\n",
       "      <td>113803</td>\n",
       "      <td>53.1000</td>\n",
       "      <td>C123</td>\n",
       "      <td>S</td>\n",
       "    </tr>\n",
       "    <tr>\n",
       "      <th>4</th>\n",
       "      <td>5</td>\n",
       "      <td>0</td>\n",
       "      <td>3</td>\n",
       "      <td>Allen, Mr. William Henry</td>\n",
       "      <td>male</td>\n",
       "      <td>35.0</td>\n",
       "      <td>0</td>\n",
       "      <td>0</td>\n",
       "      <td>373450</td>\n",
       "      <td>8.0500</td>\n",
       "      <td>NaN</td>\n",
       "      <td>S</td>\n",
       "    </tr>\n",
       "  </tbody>\n",
       "</table>\n",
       "</div>"
      ],
      "text/plain": [
       "   PassengerId  Survived  Pclass  \\\n",
       "0            1         0       3   \n",
       "1            2         1       1   \n",
       "2            3         1       3   \n",
       "3            4         1       1   \n",
       "4            5         0       3   \n",
       "\n",
       "                                                Name     Sex   Age  SibSp  \\\n",
       "0                            Braund, Mr. Owen Harris    male  22.0      1   \n",
       "1  Cumings, Mrs. John Bradley (Florence Briggs Th...  female  38.0      1   \n",
       "2                             Heikkinen, Miss. Laina  female  26.0      0   \n",
       "3       Futrelle, Mrs. Jacques Heath (Lily May Peel)  female  35.0      1   \n",
       "4                           Allen, Mr. William Henry    male  35.0      0   \n",
       "\n",
       "   Parch            Ticket     Fare Cabin Embarked  \n",
       "0      0         A/5 21171   7.2500   NaN        S  \n",
       "1      0          PC 17599  71.2833   C85        C  \n",
       "2      0  STON/O2. 3101282   7.9250   NaN        S  \n",
       "3      0            113803  53.1000  C123        S  \n",
       "4      0            373450   8.0500   NaN        S  "
      ]
     },
     "execution_count": 4,
     "metadata": {},
     "output_type": "execute_result"
    }
   ],
   "source": [
    "titanic_train= pd.read_csv(\"/kaggle/input/titanic/train.csv\")\n",
    "titanic_train.head(5)"
   ]
  },
  {
   "cell_type": "markdown",
   "id": "108ee6e6",
   "metadata": {
    "papermill": {
     "duration": 0.011785,
     "end_time": "2023-06-19T18:05:23.314219",
     "exception": false,
     "start_time": "2023-06-19T18:05:23.302434",
     "status": "completed"
    },
    "tags": []
   },
   "source": [
    "###  data types\n"
   ]
  },
  {
   "cell_type": "code",
   "execution_count": 5,
   "id": "54057206",
   "metadata": {
    "execution": {
     "iopub.execute_input": "2023-06-19T18:05:23.340760Z",
     "iopub.status.busy": "2023-06-19T18:05:23.340246Z",
     "iopub.status.idle": "2023-06-19T18:05:23.353307Z",
     "shell.execute_reply": "2023-06-19T18:05:23.351993Z"
    },
    "papermill": {
     "duration": 0.03037,
     "end_time": "2023-06-19T18:05:23.356842",
     "exception": false,
     "start_time": "2023-06-19T18:05:23.326472",
     "status": "completed"
    },
    "tags": []
   },
   "outputs": [
    {
     "data": {
      "text/plain": [
       "PassengerId      int64\n",
       "Survived         int64\n",
       "Pclass           int64\n",
       "Name            object\n",
       "Sex             object\n",
       "Age            float64\n",
       "SibSp            int64\n",
       "Parch            int64\n",
       "Ticket          object\n",
       "Fare           float64\n",
       "Cabin           object\n",
       "Embarked        object\n",
       "dtype: object"
      ]
     },
     "execution_count": 5,
     "metadata": {},
     "output_type": "execute_result"
    }
   ],
   "source": [
    "titanic_train.dtypes"
   ]
  },
  {
   "cell_type": "code",
   "execution_count": 6,
   "id": "70eafdf4",
   "metadata": {
    "execution": {
     "iopub.execute_input": "2023-06-19T18:05:23.387789Z",
     "iopub.status.busy": "2023-06-19T18:05:23.387402Z",
     "iopub.status.idle": "2023-06-19T18:05:23.393791Z",
     "shell.execute_reply": "2023-06-19T18:05:23.392807Z"
    },
    "papermill": {
     "duration": 0.025215,
     "end_time": "2023-06-19T18:05:23.396336",
     "exception": false,
     "start_time": "2023-06-19T18:05:23.371121",
     "status": "completed"
    },
    "tags": []
   },
   "outputs": [
    {
     "data": {
      "text/plain": [
       "(891, 12)"
      ]
     },
     "execution_count": 6,
     "metadata": {},
     "output_type": "execute_result"
    }
   ],
   "source": [
    "titanic_train.shape"
   ]
  },
  {
   "cell_type": "code",
   "execution_count": 7,
   "id": "d5729276",
   "metadata": {
    "execution": {
     "iopub.execute_input": "2023-06-19T18:05:23.424448Z",
     "iopub.status.busy": "2023-06-19T18:05:23.424062Z",
     "iopub.status.idle": "2023-06-19T18:05:23.434181Z",
     "shell.execute_reply": "2023-06-19T18:05:23.433418Z"
    },
    "papermill": {
     "duration": 0.027707,
     "end_time": "2023-06-19T18:05:23.437186",
     "exception": false,
     "start_time": "2023-06-19T18:05:23.409479",
     "status": "completed"
    },
    "tags": []
   },
   "outputs": [
    {
     "data": {
      "text/plain": [
       "0      0\n",
       "1      1\n",
       "2      1\n",
       "3      1\n",
       "4      0\n",
       "      ..\n",
       "886    0\n",
       "887    1\n",
       "888    0\n",
       "889    1\n",
       "890    0\n",
       "Name: Survived, Length: 891, dtype: int64"
      ]
     },
     "execution_count": 7,
     "metadata": {},
     "output_type": "execute_result"
    }
   ],
   "source": [
    "titanic_train['Survived']"
   ]
  },
  {
   "cell_type": "code",
   "execution_count": 8,
   "id": "626bea43",
   "metadata": {
    "execution": {
     "iopub.execute_input": "2023-06-19T18:05:23.467278Z",
     "iopub.status.busy": "2023-06-19T18:05:23.466850Z",
     "iopub.status.idle": "2023-06-19T18:05:23.479133Z",
     "shell.execute_reply": "2023-06-19T18:05:23.477858Z"
    },
    "papermill": {
     "duration": 0.031259,
     "end_time": "2023-06-19T18:05:23.482027",
     "exception": false,
     "start_time": "2023-06-19T18:05:23.450768",
     "status": "completed"
    },
    "tags": []
   },
   "outputs": [
    {
     "data": {
      "text/plain": [
       "0    549\n",
       "1    342\n",
       "Name: Survived, dtype: int64"
      ]
     },
     "execution_count": 8,
     "metadata": {},
     "output_type": "execute_result"
    }
   ],
   "source": [
    "titanic_train['Survived'].value_counts()"
   ]
  },
  {
   "cell_type": "code",
   "execution_count": 9,
   "id": "8ac7b40e",
   "metadata": {
    "execution": {
     "iopub.execute_input": "2023-06-19T18:05:23.510524Z",
     "iopub.status.busy": "2023-06-19T18:05:23.509994Z",
     "iopub.status.idle": "2023-06-19T18:05:23.812609Z",
     "shell.execute_reply": "2023-06-19T18:05:23.811228Z"
    },
    "papermill": {
     "duration": 0.319769,
     "end_time": "2023-06-19T18:05:23.814995",
     "exception": false,
     "start_time": "2023-06-19T18:05:23.495226",
     "status": "completed"
    },
    "tags": []
   },
   "outputs": [
    {
     "data": {
      "image/png": "[encoded data removed]",
      "text/plain": [
       "<Figure size 500x400 with 1 Axes>"
      ]
     },
     "metadata": {},
     "output_type": "display_data"
    }
   ],
   "source": [
    "import matplotlib.pyplot as plt\n",
    "plt.figure (figsize= (5,4))\n",
    "plt.bar(list(titanic_train['Survived'].value_counts().keys()),list(titanic_train['Survived'].value_counts()), color=[\"b\",\"r\"]) \n",
    "plt.show()"
   ]
  },
  {
   "cell_type": "code",
   "execution_count": 10,
   "id": "377b3a9d",
   "metadata": {
    "execution": {
     "iopub.execute_input": "2023-06-19T18:05:23.844207Z",
     "iopub.status.busy": "2023-06-19T18:05:23.843092Z",
     "iopub.status.idle": "2023-06-19T18:05:23.853258Z",
     "shell.execute_reply": "2023-06-19T18:05:23.852062Z"
    },
    "papermill": {
     "duration": 0.02815,
     "end_time": "2023-06-19T18:05:23.856258",
     "exception": false,
     "start_time": "2023-06-19T18:05:23.828108",
     "status": "completed"
    },
    "tags": []
   },
   "outputs": [
    {
     "data": {
      "text/plain": [
       "3    491\n",
       "1    216\n",
       "2    184\n",
       "Name: Pclass, dtype: int64"
      ]
     },
     "execution_count": 10,
     "metadata": {},
     "output_type": "execute_result"
    }
   ],
   "source": [
    "titanic_train['Pclass'].value_counts ()"
   ]
  },
  {
   "cell_type": "code",
   "execution_count": 11,
   "id": "68722cfd",
   "metadata": {
    "execution": {
     "iopub.execute_input": "2023-06-19T18:05:23.888152Z",
     "iopub.status.busy": "2023-06-19T18:05:23.887125Z",
     "iopub.status.idle": "2023-06-19T18:05:24.120024Z",
     "shell.execute_reply": "2023-06-19T18:05:24.119154Z"
    },
    "papermill": {
     "duration": 0.252308,
     "end_time": "2023-06-19T18:05:24.122708",
     "exception": false,
     "start_time": "2023-06-19T18:05:23.870400",
     "status": "completed"
    },
    "tags": []
   },
   "outputs": [
    {
     "data": {
      "image/png": "[encoded data removed]",
      "text/plain": [
       "<Figure size 500x400 with 1 Axes>"
      ]
     },
     "metadata": {},
     "output_type": "display_data"
    }
   ],
   "source": [
    "plt.figure(figsize= (5,4))\n",
    "plt.bar(list(titanic_train['Pclass'].value_counts().keys()),list(titanic_train['Pclass'].value_counts()),color=[\"blue\",\"yellow\",\"Orange\"])\n",
    "plt.show()"
   ]
  },
  {
   "cell_type": "code",
   "execution_count": 12,
   "id": "1c9fae43",
   "metadata": {
    "execution": {
     "iopub.execute_input": "2023-06-19T18:05:24.153699Z",
     "iopub.status.busy": "2023-06-19T18:05:24.152559Z",
     "iopub.status.idle": "2023-06-19T18:05:24.160949Z",
     "shell.execute_reply": "2023-06-19T18:05:24.160140Z"
    },
    "papermill": {
     "duration": 0.026167,
     "end_time": "2023-06-19T18:05:24.163284",
     "exception": false,
     "start_time": "2023-06-19T18:05:24.137117",
     "status": "completed"
    },
    "tags": []
   },
   "outputs": [
    {
     "data": {
      "text/plain": [
       "male      577\n",
       "female    314\n",
       "Name: Sex, dtype: int64"
      ]
     },
     "execution_count": 12,
     "metadata": {},
     "output_type": "execute_result"
    }
   ],
   "source": [
    "titanic_train['Sex'].value_counts ()"
   ]
  },
  {
   "cell_type": "code",
   "execution_count": 13,
   "id": "449d00ae",
   "metadata": {
    "execution": {
     "iopub.execute_input": "2023-06-19T18:05:24.193901Z",
     "iopub.status.busy": "2023-06-19T18:05:24.193234Z",
     "iopub.status.idle": "2023-06-19T18:05:24.327028Z",
     "shell.execute_reply": "2023-06-19T18:05:24.325939Z"
    },
    "papermill": {
     "duration": 0.155656,
     "end_time": "2023-06-19T18:05:24.333192",
     "exception": false,
     "start_time": "2023-06-19T18:05:24.177536",
     "status": "completed"
    },
    "tags": []
   },
   "outputs": [
    {
     "data": {
      "image/png": "[encoded data removed]",
      "text/plain": [
       "<Figure size 500x400 with 1 Axes>"
      ]
     },
     "metadata": {},
     "output_type": "display_data"
    }
   ],
   "source": [
    "plt.figure(figsize= (5,4))\n",
    "plt.bar(list(titanic_train['Sex'].value_counts().keys()),list(titanic_train['Sex'].value_counts()),color=[\"blue\",\"red\"])\n",
    "plt.show()"
   ]
  },
  {
   "cell_type": "code",
   "execution_count": 14,
   "id": "b8ab7cc2",
   "metadata": {
    "execution": {
     "iopub.execute_input": "2023-06-19T18:05:24.376459Z",
     "iopub.status.busy": "2023-06-19T18:05:24.376054Z",
     "iopub.status.idle": "2023-06-19T18:05:24.688058Z",
     "shell.execute_reply": "2023-06-19T18:05:24.687005Z"
    },
    "papermill": {
     "duration": 0.331558,
     "end_time": "2023-06-19T18:05:24.690700",
     "exception": false,
     "start_time": "2023-06-19T18:05:24.359142",
     "status": "completed"
    },
    "tags": []
   },
   "outputs": [
    {
     "data": {
      "image/png": "[encoded data removed]",
      "text/plain": [
       "<Figure size 500x400 with 1 Axes>"
      ]
     },
     "metadata": {},
     "output_type": "display_data"
    }
   ],
   "source": [
    "plt.figure(figsize= (5,4))\n",
    "plt.hist (titanic_train['Age'])\n",
    "plt.title(\"Distribution of Age\")\n",
    "plt.xlabel(\"Age\")\n",
    "plt.show()"
   ]
  },
  {
   "cell_type": "code",
   "execution_count": 15,
   "id": "d355a377",
   "metadata": {
    "execution": {
     "iopub.execute_input": "2023-06-19T18:05:24.723977Z",
     "iopub.status.busy": "2023-06-19T18:05:24.723552Z",
     "iopub.status.idle": "2023-06-19T18:05:24.732830Z",
     "shell.execute_reply": "2023-06-19T18:05:24.731734Z"
    },
    "papermill": {
     "duration": 0.03015,
     "end_time": "2023-06-19T18:05:24.735752",
     "exception": false,
     "start_time": "2023-06-19T18:05:24.705602",
     "status": "completed"
    },
    "tags": []
   },
   "outputs": [
    {
     "data": {
      "text/plain": [
       "0      False\n",
       "1      False\n",
       "2      False\n",
       "3      False\n",
       "4      False\n",
       "       ...  \n",
       "886    False\n",
       "887    False\n",
       "888    False\n",
       "889    False\n",
       "890    False\n",
       "Name: Survived, Length: 891, dtype: bool"
      ]
     },
     "execution_count": 15,
     "metadata": {},
     "output_type": "execute_result"
    }
   ],
   "source": [
    "(titanic_train['Survived'].isnull())"
   ]
  },
  {
   "cell_type": "code",
   "execution_count": 16,
   "id": "937824a1",
   "metadata": {
    "execution": {
     "iopub.execute_input": "2023-06-19T18:05:24.768917Z",
     "iopub.status.busy": "2023-06-19T18:05:24.768484Z",
     "iopub.status.idle": "2023-06-19T18:05:24.776951Z",
     "shell.execute_reply": "2023-06-19T18:05:24.775754Z"
    },
    "papermill": {
     "duration": 0.028475,
     "end_time": "2023-06-19T18:05:24.779631",
     "exception": false,
     "start_time": "2023-06-19T18:05:24.751156",
     "status": "completed"
    },
    "tags": []
   },
   "outputs": [
    {
     "data": {
      "text/plain": [
       "0"
      ]
     },
     "execution_count": 16,
     "metadata": {},
     "output_type": "execute_result"
    }
   ],
   "source": [
    "sum(titanic_train['Survived'].isnull())"
   ]
  },
  {
   "cell_type": "code",
   "execution_count": 17,
   "id": "8d3b299a",
   "metadata": {
    "execution": {
     "iopub.execute_input": "2023-06-19T18:05:24.813095Z",
     "iopub.status.busy": "2023-06-19T18:05:24.812691Z",
     "iopub.status.idle": "2023-06-19T18:05:24.821584Z",
     "shell.execute_reply": "2023-06-19T18:05:24.820449Z"
    },
    "papermill": {
     "duration": 0.02902,
     "end_time": "2023-06-19T18:05:24.824511",
     "exception": false,
     "start_time": "2023-06-19T18:05:24.795491",
     "status": "completed"
    },
    "tags": []
   },
   "outputs": [
    {
     "data": {
      "text/plain": [
       "0      False\n",
       "1      False\n",
       "2      False\n",
       "3      False\n",
       "4      False\n",
       "       ...  \n",
       "886    False\n",
       "887    False\n",
       "888     True\n",
       "889    False\n",
       "890    False\n",
       "Name: Age, Length: 891, dtype: bool"
      ]
     },
     "execution_count": 17,
     "metadata": {},
     "output_type": "execute_result"
    }
   ],
   "source": [
    "(titanic_train['Age'].isnull())"
   ]
  },
  {
   "cell_type": "markdown",
   "id": "738bbc76",
   "metadata": {
    "papermill": {
     "duration": 0.015047,
     "end_time": "2023-06-19T18:05:24.855051",
     "exception": false,
     "start_time": "2023-06-19T18:05:24.840004",
     "status": "completed"
    },
    "tags": []
   },
   "source": [
    "### dropping the null values"
   ]
  },
  {
   "cell_type": "code",
   "execution_count": 18,
   "id": "35928cf4",
   "metadata": {
    "execution": {
     "iopub.execute_input": "2023-06-19T18:05:24.888781Z",
     "iopub.status.busy": "2023-06-19T18:05:24.888312Z",
     "iopub.status.idle": "2023-06-19T18:05:24.902791Z",
     "shell.execute_reply": "2023-06-19T18:05:24.901370Z"
    },
    "papermill": {
     "duration": 0.035546,
     "end_time": "2023-06-19T18:05:24.906733",
     "exception": false,
     "start_time": "2023-06-19T18:05:24.871187",
     "status": "completed"
    },
    "tags": []
   },
   "outputs": [],
   "source": [
    "titanic_train=titanic_train.dropna()"
   ]
  },
  {
   "cell_type": "code",
   "execution_count": 19,
   "id": "8d7c74b4",
   "metadata": {
    "execution": {
     "iopub.execute_input": "2023-06-19T18:05:24.940661Z",
     "iopub.status.busy": "2023-06-19T18:05:24.940217Z",
     "iopub.status.idle": "2023-06-19T18:05:24.949098Z",
     "shell.execute_reply": "2023-06-19T18:05:24.947563Z"
    },
    "papermill": {
     "duration": 0.029068,
     "end_time": "2023-06-19T18:05:24.951986",
     "exception": false,
     "start_time": "2023-06-19T18:05:24.922918",
     "status": "completed"
    },
    "tags": []
   },
   "outputs": [
    {
     "data": {
      "text/plain": [
       "0"
      ]
     },
     "execution_count": 19,
     "metadata": {},
     "output_type": "execute_result"
    }
   ],
   "source": [
    "sum(titanic_train['Age'].isnull())"
   ]
  },
  {
   "cell_type": "markdown",
   "id": "6d57b00d",
   "metadata": {
    "papermill": {
     "duration": 0.015077,
     "end_time": "2023-06-19T18:05:24.983327",
     "exception": false,
     "start_time": "2023-06-19T18:05:24.968250",
     "status": "completed"
    },
    "tags": []
   },
   "source": [
    "### Data pre-processing is done so onto the next part"
   ]
  },
  {
   "cell_type": "markdown",
   "id": "f74f791c",
   "metadata": {
    "papermill": {
     "duration": 0.016346,
     "end_time": "2023-06-19T18:05:25.015287",
     "exception": false,
     "start_time": "2023-06-19T18:05:24.998941",
     "status": "completed"
    },
    "tags": []
   },
   "source": [
    "### Buliding a Model"
   ]
  },
  {
   "cell_type": "code",
   "execution_count": 20,
   "id": "15a5757f",
   "metadata": {
    "execution": {
     "iopub.execute_input": "2023-06-19T18:05:25.054088Z",
     "iopub.status.busy": "2023-06-19T18:05:25.053569Z",
     "iopub.status.idle": "2023-06-19T18:05:25.064319Z",
     "shell.execute_reply": "2023-06-19T18:05:25.062531Z"
    },
    "papermill": {
     "duration": 0.033388,
     "end_time": "2023-06-19T18:05:25.067243",
     "exception": false,
     "start_time": "2023-06-19T18:05:25.033855",
     "status": "completed"
    },
    "tags": []
   },
   "outputs": [],
   "source": [
    "x_train=titanic_train[['Age']]\n",
    "y_train=titanic_train[['Survived']]"
   ]
  },
  {
   "cell_type": "code",
   "execution_count": 21,
   "id": "71e76059",
   "metadata": {
    "execution": {
     "iopub.execute_input": "2023-06-19T18:05:25.100645Z",
     "iopub.status.busy": "2023-06-19T18:05:25.100259Z",
     "iopub.status.idle": "2023-06-19T18:05:26.984119Z",
     "shell.execute_reply": "2023-06-19T18:05:26.982802Z"
    },
    "papermill": {
     "duration": 1.904186,
     "end_time": "2023-06-19T18:05:26.987020",
     "exception": false,
     "start_time": "2023-06-19T18:05:25.082834",
     "status": "completed"
    },
    "tags": []
   },
   "outputs": [],
   "source": [
    "from sklearn.tree import DecisionTreeClassifier"
   ]
  },
  {
   "cell_type": "code",
   "execution_count": 22,
   "id": "74fa3e20",
   "metadata": {
    "execution": {
     "iopub.execute_input": "2023-06-19T18:05:27.019498Z",
     "iopub.status.busy": "2023-06-19T18:05:27.019041Z",
     "iopub.status.idle": "2023-06-19T18:05:27.025026Z",
     "shell.execute_reply": "2023-06-19T18:05:27.023493Z"
    },
    "papermill": {
     "duration": 0.025333,
     "end_time": "2023-06-19T18:05:27.027552",
     "exception": false,
     "start_time": "2023-06-19T18:05:27.002219",
     "status": "completed"
    },
    "tags": []
   },
   "outputs": [],
   "source": [
    "solution= DecisionTreeClassifier()"
   ]
  },
  {
   "cell_type": "code",
   "execution_count": 23,
   "id": "4b00639b",
   "metadata": {
    "execution": {
     "iopub.execute_input": "2023-06-19T18:05:27.061839Z",
     "iopub.status.busy": "2023-06-19T18:05:27.061376Z",
     "iopub.status.idle": "2023-06-19T18:05:27.081484Z",
     "shell.execute_reply": "2023-06-19T18:05:27.080103Z"
    },
    "papermill": {
     "duration": 0.039512,
     "end_time": "2023-06-19T18:05:27.084143",
     "exception": false,
     "start_time": "2023-06-19T18:05:27.044631",
     "status": "completed"
    },
    "tags": []
   },
   "outputs": [
    {
     "data": {
      "text/html": [
       "<style>#sk-container-id-1 {color: black;background-color: white;}#sk-container-id-1 pre{padding: 0;}#sk-container-id-1 div.sk-toggleable {background-color: white;}#sk-container-id-1 label.sk-toggleable__label {cursor: pointer;display: block;width: 100%;margin-bottom: 0;padding: 0.3em;box-sizing: border-box;text-align: center;}#sk-container-id-1 label.sk-toggleable__label-arrow:before {content: \"▸\";float: left;margin-right: 0.25em;color: #696969;}#sk-container-id-1 label.sk-toggleable__label-arrow:hover:before {color: black;}#sk-container-id-1 div.sk-estimator:hover label.sk-toggleable__label-arrow:before {color: black;}#sk-container-id-1 div.sk-toggleable__content {max-height: 0;max-width: 0;overflow: hidden;text-align: left;background-color: #f0f8ff;}#sk-container-id-1 div.sk-toggleable__content pre {margin: 0.2em;color: black;border-radius: 0.25em;background-color: #f0f8ff;}#sk-container-id-1 input.sk-toggleable__control:checked~div.sk-toggleable__content {max-height: 200px;max-width: 100%;overflow: auto;}#sk-container-id-1 input.sk-toggleable__control:checked~label.sk-toggleable__label-arrow:before {content: \"▾\";}#sk-container-id-1 div.sk-estimator input.sk-toggleable__control:checked~label.sk-toggleable__label {background-color: #d4ebff;}#sk-container-id-1 div.sk-label input.sk-toggleable__control:checked~label.sk-toggleable__label {background-color: #d4ebff;}#sk-container-id-1 input.sk-hidden--visually {border: 0;clip: rect(1px 1px 1px 1px);clip: rect(1px, 1px, 1px, 1px);height: 1px;margin: -1px;overflow: hidden;padding: 0;position: absolute;width: 1px;}#sk-container-id-1 div.sk-estimator {font-family: monospace;background-color: #f0f8ff;border: 1px dotted black;border-radius: 0.25em;box-sizing: border-box;margin-bottom: 0.5em;}#sk-container-id-1 div.sk-estimator:hover {background-color: #d4ebff;}#sk-container-id-1 div.sk-parallel-item::after {content: \"\";width: 100%;border-bottom: 1px solid gray;flex-grow: 1;}#sk-container-id-1 div.sk-label:hover label.sk-toggleable__label {background-color: #d4ebff;}#sk-container-id-1 div.sk-serial::before {content: \"\";position: absolute;border-left: 1px solid gray;box-sizing: border-box;top: 0;bottom: 0;left: 50%;z-index: 0;}#sk-container-id-1 div.sk-serial {display: flex;flex-direction: column;align-items: center;background-color: white;padding-right: 0.2em;padding-left: 0.2em;position: relative;}#sk-container-id-1 div.sk-item {position: relative;z-index: 1;}#sk-container-id-1 div.sk-parallel {display: flex;align-items: stretch;justify-content: center;background-color: white;position: relative;}#sk-container-id-1 div.sk-item::before, #sk-container-id-1 div.sk-parallel-item::before {content: \"\";position: absolute;border-left: 1px solid gray;box-sizing: border-box;top: 0;bottom: 0;left: 50%;z-index: -1;}#sk-container-id-1 div.sk-parallel-item {display: flex;flex-direction: column;z-index: 1;position: relative;background-color: white;}#sk-container-id-1 div.sk-parallel-item:first-child::after {align-self: flex-end;width: 50%;}#sk-container-id-1 div.sk-parallel-item:last-child::after {align-self: flex-start;width: 50%;}#sk-container-id-1 div.sk-parallel-item:only-child::after {width: 0;}#sk-container-id-1 div.sk-dashed-wrapped {border: 1px dashed gray;margin: 0 0.4em 0.5em 0.4em;box-sizing: border-box;padding-bottom: 0.4em;background-color: white;}#sk-container-id-1 div.sk-label label {font-family: monospace;font-weight: bold;display: inline-block;line-height: 1.2em;}#sk-container-id-1 div.sk-label-container {text-align: center;}#sk-container-id-1 div.sk-container {/* jupyter's `normalize.less` sets `[hidden] { display: none; }` but bootstrap.min.css set `[hidden] { display: none !important; }` so we also need the `!important` here to be able to override the default hidden behavior on the sphinx rendered scikit-learn.org. See: https://github.com/scikit-learn/scikit-learn/issues/21755 */display: inline-block !important;position: relative;}#sk-container-id-1 div.sk-text-repr-fallback {display: none;}</style><div id=\"sk-container-id-1\" class=\"sk-top-container\"><div class=\"sk-text-repr-fallback\"><pre>DecisionTreeClassifier()</pre><b>In a Jupyter environment, please rerun this cell to show the HTML representation or trust the notebook. <br />On GitHub, the HTML representation is unable to render, please try loading this page with nbviewer.org.</b></div><div class=\"sk-container\" hidden><div class=\"sk-item\"><div class=\"sk-estimator sk-toggleable\"><input class=\"sk-toggleable__control sk-hidden--visually\" id=\"sk-estimator-id-1\" type=\"checkbox\" checked><label for=\"sk-estimator-id-1\" class=\"sk-toggleable__label sk-toggleable__label-arrow\">DecisionTreeClassifier</label><div class=\"sk-toggleable__content\"><pre>DecisionTreeClassifier()</pre></div></div></div></div></div>"
      ],
      "text/plain": [
       "DecisionTreeClassifier()"
      ]
     },
     "execution_count": 23,
     "metadata": {},
     "output_type": "execute_result"
    }
   ],
   "source": [
    "solution.fit(x_train,y_train)"
   ]
  },
  {
   "cell_type": "code",
   "execution_count": 24,
   "id": "98444806",
   "metadata": {
    "execution": {
     "iopub.execute_input": "2023-06-19T18:05:27.117221Z",
     "iopub.status.busy": "2023-06-19T18:05:27.116815Z",
     "iopub.status.idle": "2023-06-19T18:05:27.124870Z",
     "shell.execute_reply": "2023-06-19T18:05:27.123539Z"
    },
    "papermill": {
     "duration": 0.027208,
     "end_time": "2023-06-19T18:05:27.127077",
     "exception": false,
     "start_time": "2023-06-19T18:05:27.099869",
     "status": "completed"
    },
    "tags": []
   },
   "outputs": [
    {
     "data": {
      "text/plain": [
       "86"
      ]
     },
     "execution_count": 24,
     "metadata": {},
     "output_type": "execute_result"
    }
   ],
   "source": [
    "sum(titanic_test['Age'].isnull())"
   ]
  },
  {
   "cell_type": "code",
   "execution_count": 25,
   "id": "669d5af5",
   "metadata": {
    "execution": {
     "iopub.execute_input": "2023-06-19T18:05:27.161356Z",
     "iopub.status.busy": "2023-06-19T18:05:27.159776Z",
     "iopub.status.idle": "2023-06-19T18:05:27.168761Z",
     "shell.execute_reply": "2023-06-19T18:05:27.166875Z"
    },
    "papermill": {
     "duration": 0.028884,
     "end_time": "2023-06-19T18:05:27.171538",
     "exception": false,
     "start_time": "2023-06-19T18:05:27.142654",
     "status": "completed"
    },
    "tags": []
   },
   "outputs": [],
   "source": [
    "titanic_test=titanic_test.dropna()"
   ]
  },
  {
   "cell_type": "code",
   "execution_count": 26,
   "id": "10e064a8",
   "metadata": {
    "execution": {
     "iopub.execute_input": "2023-06-19T18:05:27.204032Z",
     "iopub.status.busy": "2023-06-19T18:05:27.203594Z",
     "iopub.status.idle": "2023-06-19T18:05:27.213118Z",
     "shell.execute_reply": "2023-06-19T18:05:27.212011Z"
    },
    "papermill": {
     "duration": 0.028624,
     "end_time": "2023-06-19T18:05:27.215498",
     "exception": false,
     "start_time": "2023-06-19T18:05:27.186874",
     "status": "completed"
    },
    "tags": []
   },
   "outputs": [
    {
     "data": {
      "text/plain": [
       "0"
      ]
     },
     "execution_count": 26,
     "metadata": {},
     "output_type": "execute_result"
    }
   ],
   "source": [
    "sum(titanic_test['Age'].isnull())"
   ]
  },
  {
   "cell_type": "code",
   "execution_count": 27,
   "id": "dd912534",
   "metadata": {
    "execution": {
     "iopub.execute_input": "2023-06-19T18:05:27.249184Z",
     "iopub.status.busy": "2023-06-19T18:05:27.248670Z",
     "iopub.status.idle": "2023-06-19T18:05:27.255585Z",
     "shell.execute_reply": "2023-06-19T18:05:27.254595Z"
    },
    "papermill": {
     "duration": 0.026629,
     "end_time": "2023-06-19T18:05:27.257783",
     "exception": false,
     "start_time": "2023-06-19T18:05:27.231154",
     "status": "completed"
    },
    "tags": []
   },
   "outputs": [],
   "source": [
    "x_test=titanic_test[['Age']]"
   ]
  },
  {
   "cell_type": "code",
   "execution_count": 28,
   "id": "af6ce1fe",
   "metadata": {
    "execution": {
     "iopub.execute_input": "2023-06-19T18:05:27.292050Z",
     "iopub.status.busy": "2023-06-19T18:05:27.290603Z",
     "iopub.status.idle": "2023-06-19T18:05:27.298831Z",
     "shell.execute_reply": "2023-06-19T18:05:27.297331Z"
    },
    "papermill": {
     "duration": 0.027809,
     "end_time": "2023-06-19T18:05:27.301235",
     "exception": false,
     "start_time": "2023-06-19T18:05:27.273426",
     "status": "completed"
    },
    "tags": []
   },
   "outputs": [],
   "source": [
    "y_predict=solution.predict(x_test)"
   ]
  },
  {
   "cell_type": "code",
   "execution_count": 29,
   "id": "9fa591af",
   "metadata": {
    "execution": {
     "iopub.execute_input": "2023-06-19T18:05:27.334507Z",
     "iopub.status.busy": "2023-06-19T18:05:27.334027Z",
     "iopub.status.idle": "2023-06-19T18:05:27.342300Z",
     "shell.execute_reply": "2023-06-19T18:05:27.340953Z"
    },
    "papermill": {
     "duration": 0.02815,
     "end_time": "2023-06-19T18:05:27.344748",
     "exception": false,
     "start_time": "2023-06-19T18:05:27.316598",
     "status": "completed"
    },
    "tags": []
   },
   "outputs": [
    {
     "data": {
      "text/plain": [
       "array([1, 0, 1, 1, 1, 1, 0, 0, 1, 1, 1, 0, 1, 1, 1, 1, 1, 1, 1, 0, 0, 1,\n",
       "       1, 1, 1, 1, 1, 1, 1, 1, 1, 0, 1, 0, 1, 1, 0, 1, 0, 0, 1, 1, 1, 0,\n",
       "       1, 1, 0, 1, 1, 0, 1, 0, 1, 1, 0, 1, 1, 1, 0, 1, 0, 0, 0, 0, 1, 1,\n",
       "       1, 1, 1, 0, 0, 1, 0, 1, 1, 0, 0, 1, 1, 1, 1, 1, 1, 0, 0, 0, 1])"
      ]
     },
     "execution_count": 29,
     "metadata": {},
     "output_type": "execute_result"
    }
   ],
   "source": [
    "y_predict"
   ]
  },
  {
   "cell_type": "code",
   "execution_count": 30,
   "id": "0f403261",
   "metadata": {
    "execution": {
     "iopub.execute_input": "2023-06-19T18:05:27.377579Z",
     "iopub.status.busy": "2023-06-19T18:05:27.377214Z",
     "iopub.status.idle": "2023-06-19T18:05:27.390764Z",
     "shell.execute_reply": "2023-06-19T18:05:27.389343Z"
    },
    "papermill": {
     "duration": 0.032809,
     "end_time": "2023-06-19T18:05:27.393191",
     "exception": false,
     "start_time": "2023-06-19T18:05:27.360382",
     "status": "completed"
    },
    "tags": []
   },
   "outputs": [
    {
     "name": "stdout",
     "output_type": "stream",
     "text": [
      "81.42\n"
     ]
    }
   ],
   "source": [
    "acc_logistic = round(solution.score(x_train, y_train)*100, 2)\n",
    "\n",
    "print (acc_logistic)"
   ]
  },
  {
   "cell_type": "code",
   "execution_count": 31,
   "id": "262b3825",
   "metadata": {
    "execution": {
     "iopub.execute_input": "2023-06-19T18:05:27.427312Z",
     "iopub.status.busy": "2023-06-19T18:05:27.426741Z",
     "iopub.status.idle": "2023-06-19T18:05:27.443121Z",
     "shell.execute_reply": "2023-06-19T18:05:27.441140Z"
    },
    "papermill": {
     "duration": 0.037555,
     "end_time": "2023-06-19T18:05:27.446694",
     "exception": false,
     "start_time": "2023-06-19T18:05:27.409139",
     "status": "completed"
    },
    "tags": []
   },
   "outputs": [
    {
     "name": "stdout",
     "output_type": "stream",
     "text": [
      "Submission Done\n"
     ]
    }
   ],
   "source": [
    "titanic_output = pd.DataFrame({'PassengerId': titanic_test.PassengerId, 'Survived': y_predict})\n",
    "titanic_output.to_csv('pranav_submission.csv', index=False)\n",
    "print(\"Submission Done\")"
   ]
  },
  {
   "cell_type": "markdown",
   "id": "e6cffb80",
   "metadata": {
    "papermill": {
     "duration": 0.017646,
     "end_time": "2023-06-19T18:05:27.482108",
     "exception": false,
     "start_time": "2023-06-19T18:05:27.464462",
     "status": "completed"
    },
    "tags": []
   },
   "source": [
    "### Hence we got the solution and done the submission"
   ]
  },
  {
   "cell_type": "markdown",
   "id": "b9a7dcdc",
   "metadata": {
    "papermill": {
     "duration": 0.017822,
     "end_time": "2023-06-19T18:05:27.516948",
     "exception": false,
     "start_time": "2023-06-19T18:05:27.499126",
     "status": "completed"
    },
    "tags": []
   },
   "source": [
    "# If you like the notebook please upvote it"
   ]
  }
 ],
 "metadata": {
  "kernelspec": {
   "display_name": "Python 3",
   "language": "python",
   "name": "python3"
  },
  "language_info": {
   "codemirror_mode": {
    "name": "ipython",
    "version": 3
   },
   "file_extension": ".py",
   "mimetype": "text/x-python",
   "name": "python",
   "nbconvert_exporter": "python",
   "pygments_lexer": "ipython3",
   "version": "3.10.10"
  },
  "papermill": {
   "default_parameters": {},
   "duration": 17.733746,
   "end_time": "2023-06-19T18:05:28.458360",
   "environment_variables": {},
   "exception": null,
   "input_path": "__notebook__.ipynb",
   "output_path": "__notebook__.ipynb",
   "parameters": {},
   "start_time": "2023-06-19T18:05:10.724614",
   "version": "2.4.0"
  }
 },
 "nbformat": 4,
 "nbformat_minor": 5
}
